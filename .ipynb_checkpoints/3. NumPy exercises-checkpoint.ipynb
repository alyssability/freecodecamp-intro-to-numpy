{
  "nbformat": 4,
  "nbformat_minor": 0,
  "metadata": {
    "kernelspec": {
      "display_name": "Python 3",
      "language": "python",
      "name": "python3"
    },
    "language_info": {
      "codemirror_mode": {
        "name": "ipython",
        "version": 3
      },
      "file_extension": ".py",
      "mimetype": "text/x-python",
      "name": "python",
      "nbconvert_exporter": "python",
      "pygments_lexer": "ipython3",
      "version": "3.7.4"
    },
    "colab": {
      "name": "3. NumPy exercises-checkpoint.ipynb",
      "provenance": []
    }
  },
  "cells": [
    {
      "cell_type": "markdown",
      "metadata": {
        "id": "j524q_Bvi66W"
      },
      "source": [
        "![rmotr](https://user-images.githubusercontent.com/7065401/52071918-bda15380-2562-11e9-828c-7f95297e4a82.png)\n",
        "<hr style=\"margin-bottom: 40px;\">\n",
        "\n",
        "# NumPy exercises\n"
      ]
    },
    {
      "cell_type": "code",
      "metadata": {
        "colab": {
          "base_uri": "https://localhost:8080/"
        },
        "id": "43AXLxZXi662",
        "outputId": "b150b5ac-b4a0-4037-f262-aec1cc941baa"
      },
      "source": [
        "# Import the numpy package under the name np\n",
        "import numpy as np\n",
        "\n",
        "# Print the numpy version and the configuration\n",
        "print(np.__version__)"
      ],
      "execution_count": 3,
      "outputs": [
        {
          "output_type": "stream",
          "text": [
            "1.19.5\n"
          ],
          "name": "stdout"
        }
      ]
    },
    {
      "cell_type": "markdown",
      "metadata": {
        "id": "3x0sfMegi667"
      },
      "source": [
        "![purple-divider](https://user-images.githubusercontent.com/7065401/52071927-c1cd7100-2562-11e9-908a-dde91ba14e59.png)\n",
        "\n",
        "## Array creation"
      ]
    },
    {
      "cell_type": "markdown",
      "metadata": {
        "id": "mculzd56i668"
      },
      "source": [
        "### Create a numpy array of size 5, filled with zeros."
      ]
    },
    {
      "cell_type": "code",
      "metadata": {
        "cell_type": "solution",
        "colab": {
          "base_uri": "https://localhost:8080/"
        },
        "id": "sSDAItXZi67A",
        "outputId": "d8f1e150-c889-45a1-b919-be8be8e1b249"
      },
      "source": [
        "#np.array([0] * 5)\n",
        "np.zeros(5)"
      ],
      "execution_count": 11,
      "outputs": [
        {
          "output_type": "execute_result",
          "data": {
            "text/plain": [
              "array([0., 0., 0., 0., 0.])"
            ]
          },
          "metadata": {
            "tags": []
          },
          "execution_count": 11
        }
      ]
    },
    {
      "cell_type": "markdown",
      "metadata": {
        "id": "vhGPu6Jki67D"
      },
      "source": [
        "![green-divider](https://user-images.githubusercontent.com/7065401/52071924-c003ad80-2562-11e9-8297-1c6595f8a7ff.png)\n",
        "\n",
        "### Create a numpy array with values ranging from 10 to 50"
      ]
    },
    {
      "cell_type": "code",
      "metadata": {
        "cell_type": "solution",
        "colab": {
          "base_uri": "https://localhost:8080/"
        },
        "id": "j-ur0b--i67G",
        "outputId": "4e243b1d-c95c-4bfe-9b36-760da7470b50"
      },
      "source": [
        "np.arange(10,51)"
      ],
      "execution_count": 12,
      "outputs": [
        {
          "output_type": "execute_result",
          "data": {
            "text/plain": [
              "array([10, 11, 12, 13, 14, 15, 16, 17, 18, 19, 20, 21, 22, 23, 24, 25, 26,\n",
              "       27, 28, 29, 30, 31, 32, 33, 34, 35, 36, 37, 38, 39, 40, 41, 42, 43,\n",
              "       44, 45, 46, 47, 48, 49, 50])"
            ]
          },
          "metadata": {
            "tags": []
          },
          "execution_count": 12
        }
      ]
    },
    {
      "cell_type": "markdown",
      "metadata": {
        "id": "hzu6AWyJi67H"
      },
      "source": [
        "![green-divider](https://user-images.githubusercontent.com/7065401/52071924-c003ad80-2562-11e9-8297-1c6595f8a7ff.png)\n",
        "\n",
        "### Create a numpy matrix of 4*2 integers, filled with ones."
      ]
    },
    {
      "cell_type": "code",
      "metadata": {
        "cell_type": "solution",
        "colab": {
          "base_uri": "https://localhost:8080/"
        },
        "id": "iMOGZCdMi67K",
        "outputId": "9e857260-5e87-4549-addd-3516a6a50fcb"
      },
      "source": [
        "np.ones([4,2], dtype=np.int)"
      ],
      "execution_count": 13,
      "outputs": [
        {
          "output_type": "execute_result",
          "data": {
            "text/plain": [
              "array([[1, 1],\n",
              "       [1, 1],\n",
              "       [1, 1],\n",
              "       [1, 1]])"
            ]
          },
          "metadata": {
            "tags": []
          },
          "execution_count": 13
        }
      ]
    },
    {
      "cell_type": "markdown",
      "metadata": {
        "id": "JyShQimxi67L"
      },
      "source": [
        "![green-divider](https://user-images.githubusercontent.com/7065401/52071924-c003ad80-2562-11e9-8297-1c6595f8a7ff.png)\n",
        "\n",
        "### Create a numpy matrix of 3*2 float numbers, filled with ones."
      ]
    },
    {
      "cell_type": "code",
      "metadata": {
        "cell_type": "solution",
        "colab": {
          "base_uri": "https://localhost:8080/"
        },
        "id": "JJOHbnkli67O",
        "outputId": "04c24beb-8778-4cf4-94e0-e0dc7c757785"
      },
      "source": [
        "np.ones([3,2], dtype=np.float)"
      ],
      "execution_count": 14,
      "outputs": [
        {
          "output_type": "execute_result",
          "data": {
            "text/plain": [
              "array([[1., 1.],\n",
              "       [1., 1.],\n",
              "       [1., 1.]])"
            ]
          },
          "metadata": {
            "tags": []
          },
          "execution_count": 14
        }
      ]
    },
    {
      "cell_type": "markdown",
      "metadata": {
        "id": "J01f56C2i67Q"
      },
      "source": [
        "![green-divider](https://user-images.githubusercontent.com/7065401/52071924-c003ad80-2562-11e9-8297-1c6595f8a7ff.png)\n",
        "\n",
        "### Given the Y numpy array, create a new numpy array with the same shape and type as Y, filled with ones."
      ]
    },
    {
      "cell_type": "code",
      "metadata": {
        "cell_type": "solution",
        "colab": {
          "base_uri": "https://localhost:8080/"
        },
        "id": "CQhuU_0gi67U",
        "outputId": "35e025bc-eec3-446c-b846-7fc68c38055e"
      },
      "source": [
        "Y = np.array([[2,2],\n",
        "             [2,2]])\n",
        "np.ones_like(Y)"
      ],
      "execution_count": 18,
      "outputs": [
        {
          "output_type": "execute_result",
          "data": {
            "text/plain": [
              "array([[1, 1],\n",
              "       [1, 1]])"
            ]
          },
          "metadata": {
            "tags": []
          },
          "execution_count": 18
        }
      ]
    },
    {
      "cell_type": "markdown",
      "metadata": {
        "id": "eLgQ0dpBi67V"
      },
      "source": [
        "![green-divider](https://user-images.githubusercontent.com/7065401/52071924-c003ad80-2562-11e9-8297-1c6595f8a7ff.png)\n",
        "\n",
        "### Given the X numpy matrix, create a new numpy matrix with the same shape and type as X, filled with zeros."
      ]
    },
    {
      "cell_type": "code",
      "metadata": {
        "cell_type": "solution",
        "colab": {
          "base_uri": "https://localhost:8080/"
        },
        "id": "75CPJ5c0i67X",
        "outputId": "e38b9695-76f5-4af4-f061-b0ce186fc51a"
      },
      "source": [
        "X = np.array([[1,2,3], [4,5,6]], dtype=np.int)\n",
        "\n",
        "np.zeros_like(X)"
      ],
      "execution_count": 22,
      "outputs": [
        {
          "output_type": "execute_result",
          "data": {
            "text/plain": [
              "array([[0, 0, 0],\n",
              "       [0, 0, 0]])"
            ]
          },
          "metadata": {
            "tags": []
          },
          "execution_count": 22
        }
      ]
    },
    {
      "cell_type": "markdown",
      "metadata": {
        "id": "UhO58q7Mi67Y"
      },
      "source": [
        "![green-divider](https://user-images.githubusercontent.com/7065401/52071924-c003ad80-2562-11e9-8297-1c6595f8a7ff.png)\n",
        "\n",
        "### Create a numpy matrix of 4*3 integers, filled with fives."
      ]
    },
    {
      "cell_type": "code",
      "metadata": {
        "cell_type": "solution",
        "colab": {
          "base_uri": "https://localhost:8080/"
        },
        "id": "bnOgIwxLi67a",
        "outputId": "4dec8104-999e-4997-e2b1-1d242e19c824"
      },
      "source": [
        "np.ones([4,3], dtype=np.int) * 5"
      ],
      "execution_count": 25,
      "outputs": [
        {
          "output_type": "execute_result",
          "data": {
            "text/plain": [
              "array([[5, 5, 5],\n",
              "       [5, 5, 5],\n",
              "       [5, 5, 5],\n",
              "       [5, 5, 5]])"
            ]
          },
          "metadata": {
            "tags": []
          },
          "execution_count": 25
        }
      ]
    },
    {
      "cell_type": "markdown",
      "metadata": {
        "id": "sBQ74UVFi67b"
      },
      "source": [
        "![green-divider](https://user-images.githubusercontent.com/7065401/52071924-c003ad80-2562-11e9-8297-1c6595f8a7ff.png)\n",
        "\n",
        "### Given the X numpy matrix, create a new numpy matrix with the same shape and type as X, filled with fives."
      ]
    },
    {
      "cell_type": "code",
      "metadata": {
        "cell_type": "solution",
        "colab": {
          "base_uri": "https://localhost:8080/"
        },
        "id": "89nZhXHbi67d",
        "outputId": "4943f80d-958f-49ec-8c11-13ba45e765e6"
      },
      "source": [
        "X = np.array([[2,3], [6,2]], dtype=np.int)\n",
        "\n",
        "np.ones_like(X) * 5"
      ],
      "execution_count": 27,
      "outputs": [
        {
          "output_type": "execute_result",
          "data": {
            "text/plain": [
              "array([[5, 5],\n",
              "       [5, 5]])"
            ]
          },
          "metadata": {
            "tags": []
          },
          "execution_count": 27
        }
      ]
    },
    {
      "cell_type": "markdown",
      "metadata": {
        "id": "p5q26phki67e"
      },
      "source": [
        "![green-divider](https://user-images.githubusercontent.com/7065401/52071924-c003ad80-2562-11e9-8297-1c6595f8a7ff.png)\n",
        "\n",
        "### Create a 3*3 identity numpy matrix with ones on the diagonal and zeros elsewhere."
      ]
    },
    {
      "cell_type": "code",
      "metadata": {
        "cell_type": "solution",
        "colab": {
          "base_uri": "https://localhost:8080/"
        },
        "id": "aCnvZQSVi67g",
        "outputId": "f21989e0-74ff-4237-9273-da10846da633"
      },
      "source": [
        "#np.eye(3)\n",
        "np.identity(3)"
      ],
      "execution_count": 29,
      "outputs": [
        {
          "output_type": "execute_result",
          "data": {
            "text/plain": [
              "array([[1., 0., 0.],\n",
              "       [0., 1., 0.],\n",
              "       [0., 0., 1.]])"
            ]
          },
          "metadata": {
            "tags": []
          },
          "execution_count": 29
        }
      ]
    },
    {
      "cell_type": "markdown",
      "metadata": {
        "id": "6wptb5ISi67j"
      },
      "source": [
        "![green-divider](https://user-images.githubusercontent.com/7065401/52071924-c003ad80-2562-11e9-8297-1c6595f8a7ff.png)\n",
        "\n",
        "### Create a numpy array, filled with 3 random integer values between 1 and 10."
      ]
    },
    {
      "cell_type": "code",
      "metadata": {
        "colab": {
          "base_uri": "https://localhost:8080/"
        },
        "id": "EZvvLPkbi67k",
        "outputId": "33b534d8-cd36-44e2-c03f-18226eeeef64"
      },
      "source": [
        "np.random.randint(1,10,3,int) "
      ],
      "execution_count": 31,
      "outputs": [
        {
          "output_type": "execute_result",
          "data": {
            "text/plain": [
              "array([6, 9, 5])"
            ]
          },
          "metadata": {
            "tags": []
          },
          "execution_count": 31
        }
      ]
    },
    {
      "cell_type": "markdown",
      "metadata": {
        "id": "j5idbj2xi67m"
      },
      "source": [
        "![green-divider](https://user-images.githubusercontent.com/7065401/52071924-c003ad80-2562-11e9-8297-1c6595f8a7ff.png)\n",
        "\n",
        "### Create a 3\\*3\\*3 numpy matrix, filled with random float values."
      ]
    },
    {
      "cell_type": "code",
      "metadata": {
        "colab": {
          "base_uri": "https://localhost:8080/"
        },
        "id": "1REv-NQxi67n",
        "outputId": "84f47fe1-93fe-4bf7-bbed-84f1b3d97c7a"
      },
      "source": [
        "#0 to 1 floats\n",
        "np.random.rand(3,3)\n"
      ],
      "execution_count": 34,
      "outputs": [
        {
          "output_type": "execute_result",
          "data": {
            "text/plain": [
              "array([[0.59670747, 0.9759007 , 0.59106742],\n",
              "       [0.3360026 , 0.42388827, 0.76001281],\n",
              "       [0.60207716, 0.62012601, 0.1192834 ]])"
            ]
          },
          "metadata": {
            "tags": []
          },
          "execution_count": 34
        }
      ]
    },
    {
      "cell_type": "markdown",
      "metadata": {
        "id": "0C-4mcuhi67p"
      },
      "source": [
        "![green-divider](https://user-images.githubusercontent.com/7065401/52071924-c003ad80-2562-11e9-8297-1c6595f8a7ff.png)\n",
        "\n",
        "### Given the X python list convert it to an Y numpy array"
      ]
    },
    {
      "cell_type": "code",
      "metadata": {
        "cell_type": "solution",
        "colab": {
          "base_uri": "https://localhost:8080/"
        },
        "id": "N3FtYyWni67r",
        "outputId": "924b2f8c-eae1-4b95-9b48-21b34fe563d7"
      },
      "source": [
        "X = [1, 2, 3]\n",
        "print(X, type(X))\n",
        "\n",
        "Y = np.array(X)\n",
        "print(Y, type(Y)) # different type"
      ],
      "execution_count": 35,
      "outputs": [
        {
          "output_type": "stream",
          "text": [
            "[1, 2, 3] <class 'list'>\n",
            "[1 2 3] <class 'numpy.ndarray'>\n"
          ],
          "name": "stdout"
        }
      ]
    },
    {
      "cell_type": "markdown",
      "metadata": {
        "id": "y54OUhcBi67s"
      },
      "source": [
        "![green-divider](https://user-images.githubusercontent.com/7065401/52071924-c003ad80-2562-11e9-8297-1c6595f8a7ff.png)\n",
        "\n",
        "### Given the X numpy array, make a copy and store it on Y."
      ]
    },
    {
      "cell_type": "code",
      "metadata": {
        "cell_type": "solution",
        "colab": {
          "base_uri": "https://localhost:8080/"
        },
        "id": "q16btb_qi67u",
        "outputId": "4d4373fc-4b6d-4678-d998-00d34d773733"
      },
      "source": [
        "X = np.array([5,2,3], dtype=np.int)\n",
        "print(X, id(X))\n",
        "\n",
        "Y = np.copy(X)\n",
        "print(Y, id(Y)) # same array, different id"
      ],
      "execution_count": 36,
      "outputs": [
        {
          "output_type": "stream",
          "text": [
            "[5 2 3] 140550995571136\n",
            "[5 2 3] 140550995619392\n"
          ],
          "name": "stdout"
        }
      ]
    },
    {
      "cell_type": "markdown",
      "metadata": {
        "id": "H77PzpO9i67v"
      },
      "source": [
        "![green-divider](https://user-images.githubusercontent.com/7065401/52071924-c003ad80-2562-11e9-8297-1c6595f8a7ff.png)\n",
        "\n",
        "### Create a numpy array with numbers from 1 to 10"
      ]
    },
    {
      "cell_type": "code",
      "metadata": {
        "cell_type": "solution",
        "colab": {
          "base_uri": "https://localhost:8080/"
        },
        "id": "--yE76HMi67w",
        "outputId": "49ca5d98-3c17-45e8-d03f-a472945b4c37"
      },
      "source": [
        "np.arange(1, 11)"
      ],
      "execution_count": 37,
      "outputs": [
        {
          "output_type": "execute_result",
          "data": {
            "text/plain": [
              "array([ 1,  2,  3,  4,  5,  6,  7,  8,  9, 10])"
            ]
          },
          "metadata": {
            "tags": []
          },
          "execution_count": 37
        }
      ]
    },
    {
      "cell_type": "markdown",
      "metadata": {
        "id": "Uoa2Iqt3i67x"
      },
      "source": [
        "![green-divider](https://user-images.githubusercontent.com/7065401/52071924-c003ad80-2562-11e9-8297-1c6595f8a7ff.png)\n",
        "\n",
        "### Create a numpy array with the odd numbers between 1 to 20"
      ]
    },
    {
      "cell_type": "code",
      "metadata": {
        "cell_type": "solution",
        "colab": {
          "base_uri": "https://localhost:8080/"
        },
        "id": "KmB9oRini670",
        "outputId": "78ba9a70-6c71-47d0-fd0d-fb0e2b65ccd9"
      },
      "source": [
        "np.arange(1, 21, 2)"
      ],
      "execution_count": 42,
      "outputs": [
        {
          "output_type": "execute_result",
          "data": {
            "text/plain": [
              "array([ 1,  3,  5,  7,  9, 11, 13, 15, 17, 19])"
            ]
          },
          "metadata": {
            "tags": []
          },
          "execution_count": 42
        }
      ]
    },
    {
      "cell_type": "markdown",
      "metadata": {
        "id": "sQXoWex1i671"
      },
      "source": [
        "![green-divider](https://user-images.githubusercontent.com/7065401/52071924-c003ad80-2562-11e9-8297-1c6595f8a7ff.png)\n",
        "\n",
        "### Create a numpy array with numbers from 1 to 10, in descending order."
      ]
    },
    {
      "cell_type": "code",
      "metadata": {
        "cell_type": "solution",
        "colab": {
          "base_uri": "https://localhost:8080/"
        },
        "id": "2hDq5EXzi674",
        "outputId": "ad25e57c-0dd8-42d6-b9d1-4dae3e69e046"
      },
      "source": [
        "np.arange(1, 11)[::-1]"
      ],
      "execution_count": 40,
      "outputs": [
        {
          "output_type": "execute_result",
          "data": {
            "text/plain": [
              "array([10,  9,  8,  7,  6,  5,  4,  3,  2,  1])"
            ]
          },
          "metadata": {
            "tags": []
          },
          "execution_count": 40
        }
      ]
    },
    {
      "cell_type": "markdown",
      "metadata": {
        "id": "rCUjXOeKi674"
      },
      "source": [
        "![green-divider](https://user-images.githubusercontent.com/7065401/52071924-c003ad80-2562-11e9-8297-1c6595f8a7ff.png)\n",
        "\n",
        "### Create a 3*3 numpy matrix, filled with values ranging from 0 to 8"
      ]
    },
    {
      "cell_type": "code",
      "metadata": {
        "colab": {
          "base_uri": "https://localhost:8080/"
        },
        "id": "yaVzYOv5i675",
        "outputId": "bbdabfcd-7e7f-43c3-aad1-a08f5de0f5d6"
      },
      "source": [
        "np.random.randint(low=0, high=9, size=[3,3], dtype=int)\n"
      ],
      "execution_count": 46,
      "outputs": [
        {
          "output_type": "execute_result",
          "data": {
            "text/plain": [
              "array([[0, 6, 1],\n",
              "       [3, 6, 0],\n",
              "       [3, 6, 1]])"
            ]
          },
          "metadata": {
            "tags": []
          },
          "execution_count": 46
        }
      ]
    },
    {
      "cell_type": "code",
      "metadata": {
        "cell_type": "solution",
        "colab": {
          "base_uri": "https://localhost:8080/"
        },
        "id": "e5IgY2lUi677",
        "outputId": "5d82eae7-e14c-4544-d2f0-52be33e56f9d"
      },
      "source": [
        "np.arange(9).reshape(3,3)"
      ],
      "execution_count": 47,
      "outputs": [
        {
          "output_type": "execute_result",
          "data": {
            "text/plain": [
              "array([[0, 1, 2],\n",
              "       [3, 4, 5],\n",
              "       [6, 7, 8]])"
            ]
          },
          "metadata": {
            "tags": []
          },
          "execution_count": 47
        }
      ]
    },
    {
      "cell_type": "markdown",
      "metadata": {
        "id": "ikEl9e8Xi678"
      },
      "source": [
        "![green-divider](https://user-images.githubusercontent.com/7065401/52071924-c003ad80-2562-11e9-8297-1c6595f8a7ff.png)\n",
        "\n",
        "### Show the memory size of the given Z numpy matrix"
      ]
    },
    {
      "cell_type": "code",
      "metadata": {
        "colab": {
          "base_uri": "https://localhost:8080/"
        },
        "id": "ItyYIum5i679",
        "outputId": "2604dd90-5fc5-425c-c3b4-45cdb249ba43"
      },
      "source": [
        "X = np.ones((15,15))\n",
        "print(\"%d bytes\" % (X.size * X.itemsize))"
      ],
      "execution_count": 49,
      "outputs": [
        {
          "output_type": "stream",
          "text": [
            "1800 bytes\n"
          ],
          "name": "stdout"
        }
      ]
    },
    {
      "cell_type": "code",
      "metadata": {
        "cell_type": "solution",
        "scrolled": true,
        "colab": {
          "base_uri": "https://localhost:8080/"
        },
        "id": "kpcCxd43i67-",
        "outputId": "5e67e24c-5f34-442d-97f1-e61ec98758ba"
      },
      "source": [
        "Z = np.zeros((10,10))\n",
        "\n",
        "print(\"%d bytes\" % (Z.size * Z.itemsize))"
      ],
      "execution_count": 50,
      "outputs": [
        {
          "output_type": "stream",
          "text": [
            "800 bytes\n"
          ],
          "name": "stdout"
        }
      ]
    },
    {
      "cell_type": "markdown",
      "metadata": {
        "id": "isvVUA6Ki67_"
      },
      "source": [
        "![purple-divider](https://user-images.githubusercontent.com/7065401/52071927-c1cd7100-2562-11e9-908a-dde91ba14e59.png)\n",
        "\n",
        "## Array indexation\n"
      ]
    },
    {
      "cell_type": "markdown",
      "metadata": {
        "id": "0dEIfJili68A"
      },
      "source": [
        "### Given the X numpy array, show it's first element"
      ]
    },
    {
      "cell_type": "code",
      "metadata": {
        "id": "cE1Zs6OMi68B"
      },
      "source": [
        "# your code goes here\n"
      ],
      "execution_count": null,
      "outputs": []
    },
    {
      "cell_type": "code",
      "metadata": {
        "cell_type": "solution",
        "id": "vcT2h9dri68C"
      },
      "source": [
        "X = np.array(['A','B','C','D','E'])\n",
        "\n",
        "X[0]"
      ],
      "execution_count": null,
      "outputs": []
    },
    {
      "cell_type": "markdown",
      "metadata": {
        "id": "veUzqJnJi68D"
      },
      "source": [
        "![green-divider](https://user-images.githubusercontent.com/7065401/52071924-c003ad80-2562-11e9-8297-1c6595f8a7ff.png)\n",
        "\n",
        "### Given the X numpy array, show it's last element"
      ]
    },
    {
      "cell_type": "code",
      "metadata": {
        "id": "mgfjYmeki68E"
      },
      "source": [
        "# your code goes here\n"
      ],
      "execution_count": null,
      "outputs": []
    },
    {
      "cell_type": "code",
      "metadata": {
        "cell_type": "solution",
        "id": "cC5HCgAei68F"
      },
      "source": [
        "X = np.array(['A','B','C','D','E'])\n",
        "\n",
        "#X[len(X)-1]\n",
        "X[-1]"
      ],
      "execution_count": null,
      "outputs": []
    },
    {
      "cell_type": "markdown",
      "metadata": {
        "id": "tlDMkbWli68G"
      },
      "source": [
        "![green-divider](https://user-images.githubusercontent.com/7065401/52071924-c003ad80-2562-11e9-8297-1c6595f8a7ff.png)\n",
        "\n",
        "### Given the X numpy array, show it's first three elements"
      ]
    },
    {
      "cell_type": "code",
      "metadata": {
        "id": "_5juu_IPi68H"
      },
      "source": [
        "# your code goes here\n"
      ],
      "execution_count": null,
      "outputs": []
    },
    {
      "cell_type": "code",
      "metadata": {
        "cell_type": "solution",
        "id": "PqxWJ0LEi68I"
      },
      "source": [
        "X = np.array(['A','B','C','D','E'])\n",
        "\n",
        "X[0:3] # remember! elements start at zero index"
      ],
      "execution_count": null,
      "outputs": []
    },
    {
      "cell_type": "markdown",
      "metadata": {
        "id": "TpXdepAti68J"
      },
      "source": [
        "![green-divider](https://user-images.githubusercontent.com/7065401/52071924-c003ad80-2562-11e9-8297-1c6595f8a7ff.png)\n",
        "\n",
        "### Given the X numpy array, show all middle elements"
      ]
    },
    {
      "cell_type": "code",
      "metadata": {
        "id": "ayb3EOp2i68K"
      },
      "source": [
        "# your code goes here\n"
      ],
      "execution_count": null,
      "outputs": []
    },
    {
      "cell_type": "code",
      "metadata": {
        "cell_type": "solution",
        "id": "-MGChipKi68K"
      },
      "source": [
        "X = np.array(['A','B','C','D','E'])\n",
        "\n",
        "X[1:-1]"
      ],
      "execution_count": null,
      "outputs": []
    },
    {
      "cell_type": "markdown",
      "metadata": {
        "id": "kqhR5vCBi68L"
      },
      "source": [
        "![green-divider](https://user-images.githubusercontent.com/7065401/52071924-c003ad80-2562-11e9-8297-1c6595f8a7ff.png)\n",
        "\n",
        "### Given the X numpy array, show the elements in reverse position"
      ]
    },
    {
      "cell_type": "code",
      "metadata": {
        "id": "38MTAnRPi68M"
      },
      "source": [
        "# your code goes here\n"
      ],
      "execution_count": null,
      "outputs": []
    },
    {
      "cell_type": "code",
      "metadata": {
        "cell_type": "solution",
        "id": "cbEUDMtAi68N"
      },
      "source": [
        "X = np.array(['A','B','C','D','E'])\n",
        "\n",
        "X[::-1]"
      ],
      "execution_count": null,
      "outputs": []
    },
    {
      "cell_type": "markdown",
      "metadata": {
        "id": "22sUGHXTi68N"
      },
      "source": [
        "![green-divider](https://user-images.githubusercontent.com/7065401/52071924-c003ad80-2562-11e9-8297-1c6595f8a7ff.png)\n",
        "\n",
        "### Given the X numpy array, show the elements in an odd position"
      ]
    },
    {
      "cell_type": "code",
      "metadata": {
        "id": "w3NpLP8xi68P"
      },
      "source": [
        "# your code goes here\n"
      ],
      "execution_count": null,
      "outputs": []
    },
    {
      "cell_type": "code",
      "metadata": {
        "cell_type": "solution",
        "id": "FJOzONa3i68Q"
      },
      "source": [
        "X = np.array(['A','B','C','D','E'])\n",
        "\n",
        "#X[[0, 2, -1]]\n",
        "X[::2]"
      ],
      "execution_count": null,
      "outputs": []
    },
    {
      "cell_type": "markdown",
      "metadata": {
        "id": "XX6QXouTi68R"
      },
      "source": [
        "![green-divider](https://user-images.githubusercontent.com/7065401/52071924-c003ad80-2562-11e9-8297-1c6595f8a7ff.png)\n",
        "\n",
        "### Given the X numpy matrix, show the first row elements"
      ]
    },
    {
      "cell_type": "code",
      "metadata": {
        "id": "6-cU2C1zi68S"
      },
      "source": [
        "# your code goes here\n"
      ],
      "execution_count": null,
      "outputs": []
    },
    {
      "cell_type": "code",
      "metadata": {
        "cell_type": "solution",
        "id": "JukT_ZWTi68T"
      },
      "source": [
        "X = np.array([\n",
        "    [1,   2,  3,  4],\n",
        "    [5,   6,  7,  8],\n",
        "    [9,  10, 11, 12],\n",
        "    [13, 14, 15, 16]\n",
        "])\n",
        "\n",
        "X[0]"
      ],
      "execution_count": null,
      "outputs": []
    },
    {
      "cell_type": "markdown",
      "metadata": {
        "id": "dkH-yHJui68U"
      },
      "source": [
        "![green-divider](https://user-images.githubusercontent.com/7065401/52071924-c003ad80-2562-11e9-8297-1c6595f8a7ff.png)\n",
        "\n",
        "### Given the X numpy matrix, show the last row elements"
      ]
    },
    {
      "cell_type": "code",
      "metadata": {
        "id": "xrEHu_jHi68V"
      },
      "source": [
        "# your code goes here\n"
      ],
      "execution_count": null,
      "outputs": []
    },
    {
      "cell_type": "code",
      "metadata": {
        "cell_type": "solution",
        "id": "Wx_bUOI_i68W"
      },
      "source": [
        "X = np.array([\n",
        "    [1,   2,  3,  4],\n",
        "    [5,   6,  7,  8],\n",
        "    [9,  10, 11, 12],\n",
        "    [13, 14, 15, 16]\n",
        "])\n",
        "\n",
        "X[-1]"
      ],
      "execution_count": null,
      "outputs": []
    },
    {
      "cell_type": "markdown",
      "metadata": {
        "id": "DKUkM4-Oi68W"
      },
      "source": [
        "![green-divider](https://user-images.githubusercontent.com/7065401/52071924-c003ad80-2562-11e9-8297-1c6595f8a7ff.png)\n",
        "\n",
        "### Given the X numpy matrix, show the first element on first row"
      ]
    },
    {
      "cell_type": "code",
      "metadata": {
        "id": "A20NmcKIi68X"
      },
      "source": [
        "# your code goes here\n"
      ],
      "execution_count": null,
      "outputs": []
    },
    {
      "cell_type": "code",
      "metadata": {
        "cell_type": "solution",
        "id": "5VKMgJ8yi68Y"
      },
      "source": [
        "X = np.array([\n",
        "    [1,   2,  3,  4],\n",
        "    [5,   6,  7,  8],\n",
        "    [9,  10, 11, 12],\n",
        "    [13, 14, 15, 16]\n",
        "])\n",
        "\n",
        "#X[0][0]\n",
        "X[0, 0]"
      ],
      "execution_count": null,
      "outputs": []
    },
    {
      "cell_type": "markdown",
      "metadata": {
        "id": "A9GMldZVi68Z"
      },
      "source": [
        "![green-divider](https://user-images.githubusercontent.com/7065401/52071924-c003ad80-2562-11e9-8297-1c6595f8a7ff.png)\n",
        "\n",
        "### Given the X numpy matrix, show the last element on last row"
      ]
    },
    {
      "cell_type": "code",
      "metadata": {
        "id": "t69UbYv_i68a"
      },
      "source": [
        "# your code goes here\n"
      ],
      "execution_count": null,
      "outputs": []
    },
    {
      "cell_type": "code",
      "metadata": {
        "cell_type": "solution",
        "id": "v3v82_zZi68b"
      },
      "source": [
        "X = np.array([\n",
        "    [1,   2,  3,  4],\n",
        "    [5,   6,  7,  8],\n",
        "    [9,  10, 11, 12],\n",
        "    [13, 14, 15, 16]\n",
        "])\n",
        "\n",
        "#X[-1][-1]\n",
        "X[-1, -1]"
      ],
      "execution_count": null,
      "outputs": []
    },
    {
      "cell_type": "markdown",
      "metadata": {
        "id": "BTHLk7rmi68b"
      },
      "source": [
        "![green-divider](https://user-images.githubusercontent.com/7065401/52071924-c003ad80-2562-11e9-8297-1c6595f8a7ff.png)\n",
        "\n",
        "### Given the X numpy matrix, show the middle row elements"
      ]
    },
    {
      "cell_type": "code",
      "metadata": {
        "id": "1xrtIWdKi68c"
      },
      "source": [
        "# your code goes here\n"
      ],
      "execution_count": null,
      "outputs": []
    },
    {
      "cell_type": "code",
      "metadata": {
        "cell_type": "solution",
        "id": "s10D_h4ii68d"
      },
      "source": [
        "X = np.array([\n",
        "    [1,   2,  3,  4],\n",
        "    [5,   6,  7,  8],\n",
        "    [9,  10, 11, 12],\n",
        "    [13, 14, 15, 16]\n",
        "])\n",
        "\n",
        "#X[1:-1][1:-1] wrong!\n",
        "X[1:-1, 1:-1]"
      ],
      "execution_count": null,
      "outputs": []
    },
    {
      "cell_type": "markdown",
      "metadata": {
        "id": "kNxlPHDei68e"
      },
      "source": [
        "![green-divider](https://user-images.githubusercontent.com/7065401/52071924-c003ad80-2562-11e9-8297-1c6595f8a7ff.png)\n",
        "\n",
        "### Given the X numpy matrix, show the first two elements on the first two rows"
      ]
    },
    {
      "cell_type": "code",
      "metadata": {
        "id": "OqohR5Wzi68f"
      },
      "source": [
        "# your code goes here\n"
      ],
      "execution_count": null,
      "outputs": []
    },
    {
      "cell_type": "code",
      "metadata": {
        "cell_type": "solution",
        "id": "1cK9oz6ui68h"
      },
      "source": [
        "X = np.array([\n",
        "    [1,   2,  3,  4],\n",
        "    [5,   6,  7,  8],\n",
        "    [9,  10, 11, 12],\n",
        "    [13, 14, 15, 16]\n",
        "])\n",
        "\n",
        "#X[:2][:2] wrong!\n",
        "#X[0:2, 0:2]\n",
        "X[:2, :2]"
      ],
      "execution_count": null,
      "outputs": []
    },
    {
      "cell_type": "markdown",
      "metadata": {
        "id": "UH5znw7oi68i"
      },
      "source": [
        "![green-divider](https://user-images.githubusercontent.com/7065401/52071924-c003ad80-2562-11e9-8297-1c6595f8a7ff.png)\n",
        "\n",
        "### Given the X numpy matrix, show the last two elements on the last two rows"
      ]
    },
    {
      "cell_type": "code",
      "metadata": {
        "id": "SvhN3Z5Qi68j"
      },
      "source": [
        "# your code goes here\n"
      ],
      "execution_count": null,
      "outputs": []
    },
    {
      "cell_type": "code",
      "metadata": {
        "cell_type": "solution",
        "id": "yj6gS5rUi68k"
      },
      "source": [
        "X = np.array([\n",
        "    [1,   2,  3,  4],\n",
        "    [5,   6,  7,  8],\n",
        "    [9,  10, 11, 12],\n",
        "    [13, 14, 15, 16]\n",
        "])\n",
        "\n",
        "X[2:, 2:]"
      ],
      "execution_count": null,
      "outputs": []
    },
    {
      "cell_type": "markdown",
      "metadata": {
        "id": "035tjG03i68m"
      },
      "source": [
        "![purple-divider](https://user-images.githubusercontent.com/7065401/52071927-c1cd7100-2562-11e9-908a-dde91ba14e59.png)\n",
        "\n",
        "## Array manipulation\n"
      ]
    },
    {
      "cell_type": "markdown",
      "metadata": {
        "id": "VphT3RlHi68n"
      },
      "source": [
        "### Convert the given integer numpy array to float"
      ]
    },
    {
      "cell_type": "code",
      "metadata": {
        "id": "hmWq7E0Yi68o"
      },
      "source": [
        "# your code goes here\n"
      ],
      "execution_count": null,
      "outputs": []
    },
    {
      "cell_type": "code",
      "metadata": {
        "cell_type": "solution",
        "id": "sy1S242gi68p"
      },
      "source": [
        "X = [-5, -3, 0, 10, 40]\n",
        "\n",
        "np.array(X, np.float)"
      ],
      "execution_count": null,
      "outputs": []
    },
    {
      "cell_type": "markdown",
      "metadata": {
        "id": "8axFe2_gi68q"
      },
      "source": [
        "![green-divider](https://user-images.githubusercontent.com/7065401/52071924-c003ad80-2562-11e9-8297-1c6595f8a7ff.png)\n",
        "\n",
        "### Reverse the given numpy array (first element becomes last)"
      ]
    },
    {
      "cell_type": "code",
      "metadata": {
        "id": "y3SzRq-qi68q"
      },
      "source": [
        "# your code goes here\n"
      ],
      "execution_count": null,
      "outputs": []
    },
    {
      "cell_type": "code",
      "metadata": {
        "cell_type": "solution",
        "id": "XlaKfeJsi68r"
      },
      "source": [
        "X = [-5, -3, 0, 10, 40]\n",
        "\n",
        "X[::-1]"
      ],
      "execution_count": null,
      "outputs": []
    },
    {
      "cell_type": "markdown",
      "metadata": {
        "id": "Uu2YasZYi68s"
      },
      "source": [
        "![green-divider](https://user-images.githubusercontent.com/7065401/52071924-c003ad80-2562-11e9-8297-1c6595f8a7ff.png)\n",
        "\n",
        "### Order (sort) the given numpy array"
      ]
    },
    {
      "cell_type": "code",
      "metadata": {
        "id": "2vAZYZOhi68t"
      },
      "source": [
        "# your code goes here\n"
      ],
      "execution_count": null,
      "outputs": []
    },
    {
      "cell_type": "code",
      "metadata": {
        "cell_type": "solution",
        "id": "dXIFLTXPi68u"
      },
      "source": [
        "X = [0, 10, -5, 40, -3]\n",
        "\n",
        "X.sort()\n",
        "X"
      ],
      "execution_count": null,
      "outputs": []
    },
    {
      "cell_type": "markdown",
      "metadata": {
        "id": "AxEMtjU6i68u"
      },
      "source": [
        "![green-divider](https://user-images.githubusercontent.com/7065401/52071924-c003ad80-2562-11e9-8297-1c6595f8a7ff.png)\n",
        "\n",
        "### Given the X numpy array, set the fifth element equal to 1"
      ]
    },
    {
      "cell_type": "code",
      "metadata": {
        "id": "q-6wvDJSi68v"
      },
      "source": [
        "# your code goes here\n"
      ],
      "execution_count": null,
      "outputs": []
    },
    {
      "cell_type": "code",
      "metadata": {
        "cell_type": "solution",
        "id": "xDTLrohSi68w"
      },
      "source": [
        "X = np.zeros(10)\n",
        "\n",
        "X[4] = 1\n",
        "X"
      ],
      "execution_count": null,
      "outputs": []
    },
    {
      "cell_type": "markdown",
      "metadata": {
        "id": "ZqIWKWb9i68x"
      },
      "source": [
        "![green-divider](https://user-images.githubusercontent.com/7065401/52071924-c003ad80-2562-11e9-8297-1c6595f8a7ff.png)\n",
        "\n",
        "### Given the X numpy array, change the 50 with a 40"
      ]
    },
    {
      "cell_type": "code",
      "metadata": {
        "id": "YgmduFtUi68y"
      },
      "source": [
        "# your code goes here\n"
      ],
      "execution_count": null,
      "outputs": []
    },
    {
      "cell_type": "code",
      "metadata": {
        "cell_type": "solution",
        "id": "CEExGlbsi68z"
      },
      "source": [
        "X = np.array([10, 20, 30, 50])\n",
        "\n",
        "X[3] = 40\n",
        "X"
      ],
      "execution_count": null,
      "outputs": []
    },
    {
      "cell_type": "markdown",
      "metadata": {
        "id": "yLOPMtKbi68z"
      },
      "source": [
        "![green-divider](https://user-images.githubusercontent.com/7065401/52071924-c003ad80-2562-11e9-8297-1c6595f8a7ff.png)\n",
        "\n",
        "### Given the X numpy matrix, change the last row with all 1"
      ]
    },
    {
      "cell_type": "code",
      "metadata": {
        "id": "AaGKgF_oi681"
      },
      "source": [
        "# your code goes here\n"
      ],
      "execution_count": null,
      "outputs": []
    },
    {
      "cell_type": "code",
      "metadata": {
        "cell_type": "solution",
        "id": "VarUdA7Ai682"
      },
      "source": [
        "X = np.array([\n",
        "    [1,   2,  3,  4],\n",
        "    [5,   6,  7,  8],\n",
        "    [9,  10, 11, 12],\n",
        "    [13, 14, 15, 16]\n",
        "])\n",
        "\n",
        "X[-1] = np.array([1, 1, 1, 1])\n",
        "X"
      ],
      "execution_count": null,
      "outputs": []
    },
    {
      "cell_type": "markdown",
      "metadata": {
        "id": "c9o70n9Ni683"
      },
      "source": [
        "![green-divider](https://user-images.githubusercontent.com/7065401/52071924-c003ad80-2562-11e9-8297-1c6595f8a7ff.png)\n",
        "\n",
        "### Given the X numpy matrix, change the last item on the last row with a 0"
      ]
    },
    {
      "cell_type": "code",
      "metadata": {
        "id": "QLf6GhQGi684"
      },
      "source": [
        "# your code goes here\n"
      ],
      "execution_count": null,
      "outputs": []
    },
    {
      "cell_type": "code",
      "metadata": {
        "cell_type": "solution",
        "id": "kBqdfqxJi685"
      },
      "source": [
        "X = np.array([\n",
        "    [1,   2,  3,  4],\n",
        "    [5,   6,  7,  8],\n",
        "    [9,  10, 11, 12],\n",
        "    [13, 14, 15, 16]\n",
        "])\n",
        "\n",
        "X[-1, -1] = 0\n",
        "X"
      ],
      "execution_count": null,
      "outputs": []
    },
    {
      "cell_type": "markdown",
      "metadata": {
        "id": "PKtQW3g0i686"
      },
      "source": [
        "![green-divider](https://user-images.githubusercontent.com/7065401/52071924-c003ad80-2562-11e9-8297-1c6595f8a7ff.png)\n",
        "\n",
        "### Given the X numpy matrix, add 5 to every element"
      ]
    },
    {
      "cell_type": "code",
      "metadata": {
        "id": "Ellqu5DBi687"
      },
      "source": [
        "# your code goes here\n"
      ],
      "execution_count": null,
      "outputs": []
    },
    {
      "cell_type": "code",
      "metadata": {
        "cell_type": "solution",
        "id": "GGya5561i688"
      },
      "source": [
        "X = np.array([\n",
        "    [1,   2,  3,  4],\n",
        "    [5,   6,  7,  8],\n",
        "    [9,  10, 11, 12],\n",
        "    [13, 14, 15, 16]\n",
        "])\n",
        "\n",
        "X + 5"
      ],
      "execution_count": null,
      "outputs": []
    },
    {
      "cell_type": "markdown",
      "metadata": {
        "id": "URtsyAmdi689"
      },
      "source": [
        "![purple-divider](https://user-images.githubusercontent.com/7065401/52071927-c1cd7100-2562-11e9-908a-dde91ba14e59.png)\n",
        "\n",
        "## Boolean arrays _(also called masks)_\n"
      ]
    },
    {
      "cell_type": "markdown",
      "metadata": {
        "id": "aim_7akli68-"
      },
      "source": [
        "### Given the X numpy array, make a mask showing negative elements"
      ]
    },
    {
      "cell_type": "code",
      "metadata": {
        "id": "WYJG6BW6i68-"
      },
      "source": [
        "# your code goes here\n"
      ],
      "execution_count": null,
      "outputs": []
    },
    {
      "cell_type": "code",
      "metadata": {
        "cell_type": "solution",
        "id": "hzlE8RsOi68_"
      },
      "source": [
        "X = np.array([-1,2,0,-4,5,6,0,0,-9,10])\n",
        "\n",
        "mask = X <= 0\n",
        "mask"
      ],
      "execution_count": null,
      "outputs": []
    },
    {
      "cell_type": "markdown",
      "metadata": {
        "id": "MgXbWEKQi69A"
      },
      "source": [
        "![green-divider](https://user-images.githubusercontent.com/7065401/52071924-c003ad80-2562-11e9-8297-1c6595f8a7ff.png)\n",
        "\n",
        "### Given the X numpy array, get the negative elements"
      ]
    },
    {
      "cell_type": "code",
      "metadata": {
        "id": "DDyY2NCci69A"
      },
      "source": [
        "# your code goes here\n"
      ],
      "execution_count": null,
      "outputs": []
    },
    {
      "cell_type": "code",
      "metadata": {
        "cell_type": "solution",
        "id": "q7J89kHfi69B"
      },
      "source": [
        "X = np.array([-1, 2, 0, -4, 5, 6, 0, 0, -9, 10])\n",
        "\n",
        "mask = X <= 0\n",
        "X[mask]"
      ],
      "execution_count": null,
      "outputs": []
    },
    {
      "cell_type": "markdown",
      "metadata": {
        "id": "-6HlT-Cki69C"
      },
      "source": [
        "![green-divider](https://user-images.githubusercontent.com/7065401/52071924-c003ad80-2562-11e9-8297-1c6595f8a7ff.png)\n",
        "\n",
        "### Given the X numpy array, get numbers higher than 5"
      ]
    },
    {
      "cell_type": "code",
      "metadata": {
        "id": "SH20ilfui69D"
      },
      "source": [
        "# your code goes here\n"
      ],
      "execution_count": null,
      "outputs": []
    },
    {
      "cell_type": "code",
      "metadata": {
        "cell_type": "solution",
        "id": "OOhQQ8LOi69D"
      },
      "source": [
        "X = np.array([-1, 2, 0, -4, 5, 6, 0, 0, -9, 10])\n",
        "\n",
        "mask = X > 5\n",
        "X[mask]"
      ],
      "execution_count": null,
      "outputs": []
    },
    {
      "cell_type": "markdown",
      "metadata": {
        "id": "0J3wCKSxi69E"
      },
      "source": [
        "![green-divider](https://user-images.githubusercontent.com/7065401/52071924-c003ad80-2562-11e9-8297-1c6595f8a7ff.png)\n",
        "\n",
        "### Given the X numpy array, get numbers higher than the elements mean"
      ]
    },
    {
      "cell_type": "code",
      "metadata": {
        "id": "EQUhUMrqi69F"
      },
      "source": [
        "# your code goes here\n"
      ],
      "execution_count": null,
      "outputs": []
    },
    {
      "cell_type": "code",
      "metadata": {
        "cell_type": "solution",
        "id": "Q0JQnvnOi69G"
      },
      "source": [
        "X = np.array([-1, 2, 0, -4, 5, 6, 0, 0, -9, 10])\n",
        "\n",
        "mask = X > X.mean()\n",
        "X[mask]"
      ],
      "execution_count": null,
      "outputs": []
    },
    {
      "cell_type": "markdown",
      "metadata": {
        "id": "ZLdW1LIQi69G"
      },
      "source": [
        "![green-divider](https://user-images.githubusercontent.com/7065401/52071924-c003ad80-2562-11e9-8297-1c6595f8a7ff.png)\n",
        "\n",
        "### Given the X numpy array, get numbers equal to 2 or 10"
      ]
    },
    {
      "cell_type": "code",
      "metadata": {
        "id": "G10diAKgi69H"
      },
      "source": [
        "# your code goes here\n"
      ],
      "execution_count": null,
      "outputs": []
    },
    {
      "cell_type": "code",
      "metadata": {
        "cell_type": "solution",
        "scrolled": true,
        "id": "iVF6reGKi69I"
      },
      "source": [
        "X = np.array([-1, 2, 0, -4, 5, 6, 0, 0, -9, 10])\n",
        "\n",
        "mask = (X == 2) | (X == 10)\n",
        "X[mask]"
      ],
      "execution_count": null,
      "outputs": []
    },
    {
      "cell_type": "markdown",
      "metadata": {
        "id": "7kBdYxa4i69J"
      },
      "source": [
        "![purple-divider](https://user-images.githubusercontent.com/7065401/52071927-c1cd7100-2562-11e9-908a-dde91ba14e59.png)\n",
        "\n",
        "## Logic functions\n"
      ]
    },
    {
      "cell_type": "markdown",
      "metadata": {
        "id": "RBcG0jHgi69J"
      },
      "source": [
        "### Given the X numpy array, return True if none of its elements is zero"
      ]
    },
    {
      "cell_type": "code",
      "metadata": {
        "id": "DcALCpG9i69K"
      },
      "source": [
        "# your code goes here\n"
      ],
      "execution_count": null,
      "outputs": []
    },
    {
      "cell_type": "code",
      "metadata": {
        "cell_type": "solution",
        "id": "LIJ9or_8i69L"
      },
      "source": [
        "X = np.array([-1, 2, 0, -4, 5, 6, 0, 0, -9, 10])\n",
        "\n",
        "X.all()"
      ],
      "execution_count": null,
      "outputs": []
    },
    {
      "cell_type": "markdown",
      "metadata": {
        "id": "P3Du5QhMi69L"
      },
      "source": [
        "![green-divider](https://user-images.githubusercontent.com/7065401/52071924-c003ad80-2562-11e9-8297-1c6595f8a7ff.png)\n",
        "\n",
        "### Given the X numpy array, return True if any of its elements is zero"
      ]
    },
    {
      "cell_type": "code",
      "metadata": {
        "id": "OGMEX5z5i69M"
      },
      "source": [
        "# your code goes here\n"
      ],
      "execution_count": null,
      "outputs": []
    },
    {
      "cell_type": "code",
      "metadata": {
        "cell_type": "solution",
        "id": "F3nsgHYYi69N"
      },
      "source": [
        "X = np.array([-1, 2, 0, -4, 5, 6, 0, 0, -9, 10])\n",
        "\n",
        "X.any()"
      ],
      "execution_count": null,
      "outputs": []
    },
    {
      "cell_type": "markdown",
      "metadata": {
        "id": "KoU48k4li69O"
      },
      "source": [
        "![purple-divider](https://user-images.githubusercontent.com/7065401/52071927-c1cd7100-2562-11e9-908a-dde91ba14e59.png)\n",
        "\n",
        "## Summary statistics"
      ]
    },
    {
      "cell_type": "markdown",
      "metadata": {
        "id": "v04MVvpMi69O"
      },
      "source": [
        "### Given the X numpy array, show the sum of its elements"
      ]
    },
    {
      "cell_type": "code",
      "metadata": {
        "id": "EyordSOSi69P"
      },
      "source": [
        "# your code goes here\n"
      ],
      "execution_count": null,
      "outputs": []
    },
    {
      "cell_type": "code",
      "metadata": {
        "cell_type": "solution",
        "id": "Dy1IICzLi69Q"
      },
      "source": [
        "X = np.array([3, 5, 6, 7, 2, 3, 4, 9, 4])\n",
        "\n",
        "#np.sum(X)\n",
        "X.sum()"
      ],
      "execution_count": null,
      "outputs": []
    },
    {
      "cell_type": "markdown",
      "metadata": {
        "id": "LbrrMbpqi69R"
      },
      "source": [
        "![green-divider](https://user-images.githubusercontent.com/7065401/52071924-c003ad80-2562-11e9-8297-1c6595f8a7ff.png)\n",
        "\n",
        "### Given the X numpy array, show the mean value of its elements"
      ]
    },
    {
      "cell_type": "code",
      "metadata": {
        "id": "dJ59W09hi69T"
      },
      "source": [
        "# your code goes here\n"
      ],
      "execution_count": null,
      "outputs": []
    },
    {
      "cell_type": "code",
      "metadata": {
        "cell_type": "solution",
        "id": "-zdKhLfLi69U"
      },
      "source": [
        "X = np.array([1, 2, 0, 4, 5, 6, 0, 0, 9, 10])\n",
        "\n",
        "#np.mean(X)\n",
        "X.mean()"
      ],
      "execution_count": null,
      "outputs": []
    },
    {
      "cell_type": "markdown",
      "metadata": {
        "id": "e5ftmfLIi69V"
      },
      "source": [
        "![green-divider](https://user-images.githubusercontent.com/7065401/52071924-c003ad80-2562-11e9-8297-1c6595f8a7ff.png)\n",
        "\n",
        "### Given the X numpy matrix, show the sum of its columns"
      ]
    },
    {
      "cell_type": "code",
      "metadata": {
        "id": "2ADdPPoei69W"
      },
      "source": [
        "# your code goes here\n"
      ],
      "execution_count": null,
      "outputs": []
    },
    {
      "cell_type": "code",
      "metadata": {
        "cell_type": "solution",
        "id": "1N-Oa8Mzi69X"
      },
      "source": [
        "X = np.array([\n",
        "    [1,   2,  3,  4],\n",
        "    [5,   6,  7,  8],\n",
        "    [9,  10, 11, 12],\n",
        "    [13, 14, 15, 16]\n",
        "])\n",
        "\n",
        "X.sum(axis=0) # remember: axis=0 columns; axis=1 rows"
      ],
      "execution_count": null,
      "outputs": []
    },
    {
      "cell_type": "markdown",
      "metadata": {
        "id": "bG6drC-Fi69Y"
      },
      "source": [
        "![green-divider](https://user-images.githubusercontent.com/7065401/52071924-c003ad80-2562-11e9-8297-1c6595f8a7ff.png)\n",
        "\n",
        "### Given the X numpy matrix, show the mean value of its rows"
      ]
    },
    {
      "cell_type": "code",
      "metadata": {
        "id": "R04jFwnoi69a"
      },
      "source": [
        "# your code goes here\n"
      ],
      "execution_count": null,
      "outputs": []
    },
    {
      "cell_type": "code",
      "metadata": {
        "cell_type": "solution",
        "id": "4nrL_C2oi69a"
      },
      "source": [
        "X = np.array([\n",
        "    [1,   2,  3,  4],\n",
        "    [5,   6,  7,  8],\n",
        "    [9,  10, 11, 12],\n",
        "    [13, 14, 15, 16]\n",
        "])\n",
        "\n",
        "X.mean(axis=1) # remember: axis=0 columns; axis=1 rows"
      ],
      "execution_count": null,
      "outputs": []
    },
    {
      "cell_type": "markdown",
      "metadata": {
        "id": "4VTx6Wpbi69b"
      },
      "source": [
        "![green-divider](https://user-images.githubusercontent.com/7065401/52071924-c003ad80-2562-11e9-8297-1c6595f8a7ff.png)\n",
        "\n",
        "### Given the X numpy array, show the max value of its elements"
      ]
    },
    {
      "cell_type": "code",
      "metadata": {
        "id": "56YSuTbCi69c"
      },
      "source": [
        "# your code goes here\n"
      ],
      "execution_count": null,
      "outputs": []
    },
    {
      "cell_type": "code",
      "metadata": {
        "cell_type": "solution",
        "id": "ong9MeL0i69d"
      },
      "source": [
        "X = np.array([1, 2, 0, 4, 5, 6, 0, 0, 9, 10])\n",
        "\n",
        "#np.max(X)\n",
        "X.max()"
      ],
      "execution_count": null,
      "outputs": []
    },
    {
      "cell_type": "markdown",
      "metadata": {
        "id": "pp4WVGDDi69e"
      },
      "source": [
        "![purple-divider](https://user-images.githubusercontent.com/7065401/52071927-c1cd7100-2562-11e9-908a-dde91ba14e59.png)"
      ]
    }
  ]
}